{
 "cells": [
  {
   "cell_type": "code",
   "execution_count": 1,
   "id": "a303da0b",
   "metadata": {},
   "outputs": [
    {
     "name": "stdout",
     "output_type": "stream",
     "text": [
      "Requirement already satisfied: opencv-python in c:\\users\\navan\\anaconda3\\lib\\site-packages (4.5.5.62)\n",
      "Requirement already satisfied: numpy>=1.19.3 in c:\\users\\navan\\anaconda3\\lib\\site-packages (from opencv-python) (1.20.3)\n"
     ]
    }
   ],
   "source": [
    "!pip install opencv-python"
   ]
  },
  {
   "cell_type": "code",
   "execution_count": 2,
   "id": "603679d9",
   "metadata": {},
   "outputs": [
    {
     "data": {
      "text/plain": [
       "'4.5.5'"
      ]
     },
     "execution_count": 2,
     "metadata": {},
     "output_type": "execute_result"
    }
   ],
   "source": [
    "import cv2\n",
    "cv2.__version__"
   ]
  },
  {
   "cell_type": "code",
   "execution_count": 3,
   "id": "dffbcf2e",
   "metadata": {},
   "outputs": [],
   "source": [
    "import numpy as np"
   ]
  },
  {
   "cell_type": "code",
   "execution_count": 12,
   "id": "15621cf5",
   "metadata": {},
   "outputs": [],
   "source": [
    "# Read, write and Display\n",
    "img = cv2.imread(\"pic1.jpg\")\n",
    "cv2.imshow(\"Output\",img)\n",
    "\n",
    "cv2.waitKey(0)\n",
    "cv2.destroyAllWindows()"
   ]
  },
  {
   "cell_type": "code",
   "execution_count": 13,
   "id": "32a88fb6",
   "metadata": {},
   "outputs": [
    {
     "data": {
      "text/plain": [
       "(360, 540, 3)"
      ]
     },
     "execution_count": 13,
     "metadata": {},
     "output_type": "execute_result"
    }
   ],
   "source": [
    "img.shape"
   ]
  },
  {
   "cell_type": "code",
   "execution_count": 16,
   "id": "b64bb650",
   "metadata": {},
   "outputs": [],
   "source": [
    "img = cv2.imread(\"pic1.jpg\")\n",
    "imgGray = cv2.cvtColor(img, cv2.COLOR_RGB2GRAY)\n",
    "cv2.imwrite(\"bw_pic1.jpg\",imgGray)\n",
    "cv2.imshow(\"BW Image\", imgGray)\n",
    "cv2.imshow('Color Imaga',img)\n",
    "\n",
    "cv2.waitKey(0)\n",
    "cv2.destroyAllWindows()"
   ]
  },
  {
   "cell_type": "code",
   "execution_count": 17,
   "id": "fe6bbf6c",
   "metadata": {},
   "outputs": [
    {
     "data": {
      "text/plain": [
       "(360, 540)"
      ]
     },
     "execution_count": 17,
     "metadata": {},
     "output_type": "execute_result"
    }
   ],
   "source": [
    "imgGray.shape"
   ]
  },
  {
   "cell_type": "code",
   "execution_count": 18,
   "id": "7b722ce6",
   "metadata": {},
   "outputs": [
    {
     "data": {
      "text/plain": [
       "(360, 540, 3)"
      ]
     },
     "execution_count": 18,
     "metadata": {},
     "output_type": "execute_result"
    }
   ],
   "source": [
    "img.shape"
   ]
  },
  {
   "cell_type": "code",
   "execution_count": 19,
   "id": "bd90276a",
   "metadata": {},
   "outputs": [
    {
     "data": {
      "text/plain": [
       "(254, 255)"
      ]
     },
     "execution_count": 19,
     "metadata": {},
     "output_type": "execute_result"
    }
   ],
   "source": [
    "np.max(imgGray), np.max(img)"
   ]
  },
  {
   "cell_type": "code",
   "execution_count": 20,
   "id": "80e85626",
   "metadata": {},
   "outputs": [
    {
     "data": {
      "text/plain": [
       "numpy.ndarray"
      ]
     },
     "execution_count": 20,
     "metadata": {},
     "output_type": "execute_result"
    }
   ],
   "source": [
    "type(imgGray)"
   ]
  },
  {
   "cell_type": "code",
   "execution_count": 21,
   "id": "7674571b",
   "metadata": {},
   "outputs": [
    {
     "data": {
      "text/plain": [
       "numpy.ndarray"
      ]
     },
     "execution_count": 21,
     "metadata": {},
     "output_type": "execute_result"
    }
   ],
   "source": [
    "type(img)"
   ]
  },
  {
   "cell_type": "code",
   "execution_count": 22,
   "id": "cb8278b3",
   "metadata": {},
   "outputs": [
    {
     "data": {
      "text/plain": [
       "(5, 0)"
      ]
     },
     "execution_count": 22,
     "metadata": {},
     "output_type": "execute_result"
    }
   ],
   "source": [
    "np.min(imgGray), np.min(img)"
   ]
  },
  {
   "cell_type": "code",
   "execution_count": 23,
   "id": "28299714",
   "metadata": {},
   "outputs": [
    {
     "data": {
      "text/plain": [
       "array([[231, 231, 231, ..., 232, 232, 232],\n",
       "       [231, 231, 231, ..., 232, 232, 232],\n",
       "       [231, 231, 231, ..., 232, 232, 232],\n",
       "       ...,\n",
       "       [234, 234, 234, ..., 232, 232, 232],\n",
       "       [234, 234, 234, ..., 232, 232, 232],\n",
       "       [234, 234, 234, ..., 232, 232, 232]], dtype=uint8)"
      ]
     },
     "execution_count": 23,
     "metadata": {},
     "output_type": "execute_result"
    }
   ],
   "source": [
    "imgGray"
   ]
  },
  {
   "cell_type": "code",
   "execution_count": null,
   "id": "d084bd62",
   "metadata": {},
   "outputs": [],
   "source": []
  }
 ],
 "metadata": {
  "kernelspec": {
   "display_name": "Python 3 (ipykernel)",
   "language": "python",
   "name": "python3"
  },
  "language_info": {
   "codemirror_mode": {
    "name": "ipython",
    "version": 3
   },
   "file_extension": ".py",
   "mimetype": "text/x-python",
   "name": "python",
   "nbconvert_exporter": "python",
   "pygments_lexer": "ipython3",
   "version": "3.9.7"
  }
 },
 "nbformat": 4,
 "nbformat_minor": 5
}
