{
 "cells": [
  {
   "cell_type": "code",
   "execution_count": 1,
   "id": "c0af8410",
   "metadata": {},
   "outputs": [
    {
     "name": "stdout",
     "output_type": "stream",
     "text": [
      "Requirement already satisfied: opencv-python in c:\\users\\navan\\anaconda3\\lib\\site-packages (4.5.5.62)\n",
      "Requirement already satisfied: numpy>=1.19.3 in c:\\users\\navan\\anaconda3\\lib\\site-packages (from opencv-python) (1.20.3)\n"
     ]
    }
   ],
   "source": [
    "!pip install opencv-python"
   ]
  },
  {
   "cell_type": "code",
   "execution_count": 2,
   "id": "4ac4b58e",
   "metadata": {},
   "outputs": [
    {
     "data": {
      "text/plain": [
       "'4.5.5'"
      ]
     },
     "execution_count": 2,
     "metadata": {},
     "output_type": "execute_result"
    }
   ],
   "source": [
    "import cv2\n",
    "cv2.__version__"
   ]
  },
  {
   "cell_type": "code",
   "execution_count": 3,
   "id": "a4e07bf4",
   "metadata": {},
   "outputs": [],
   "source": [
    "import numpy as np"
   ]
  },
  {
   "cell_type": "code",
   "execution_count": 12,
   "id": "06bc5b98",
   "metadata": {},
   "outputs": [],
   "source": [
    "# Read, write and Display\n",
    "img = cv2.imread(\"pic1.jpg\")\n",
    "cv2.imshow(\"Output\",img)\n",
    "\n",
    "cv2.waitKey(0)\n",
    "cv2.destroyAllWindows()"
   ]
  },
  {
   "cell_type": "code",
   "execution_count": 13,
   "id": "616c0753",
   "metadata": {},
   "outputs": [
    {
     "data": {
      "text/plain": [
       "(360, 540, 3)"
      ]
     },
     "execution_count": 13,
     "metadata": {},
     "output_type": "execute_result"
    }
   ],
   "source": [
    "img.shape"
   ]
  },
  {
   "cell_type": "code",
   "execution_count": 30,
   "id": "0b4b4ce9",
   "metadata": {},
   "outputs": [],
   "source": [
    "img = cv2.imread(\"pic1.jpg\")\n",
    "imgGray = cv2.cvtColor(img, cv2.COLOR_RGB2GRAY)\n",
    "cv2.imwrite(\"bw_pic1.jpg\",imgGray)\n",
    "cv2.imshow(\"BW Image\", imgGray)\n",
    "cv2.imshow('Color Imaga',img)\n",
    "\n",
    "cv2.waitKey(0)\n",
    "cv2.destroyAllWindows()"
   ]
  },
  {
   "cell_type": "code",
   "execution_count": 31,
   "id": "f1175283",
   "metadata": {},
   "outputs": [
    {
     "data": {
      "text/plain": [
       "(360, 540)"
      ]
     },
     "execution_count": 31,
     "metadata": {},
     "output_type": "execute_result"
    }
   ],
   "source": [
    "imgGray.shape"
   ]
  },
  {
   "cell_type": "code",
   "execution_count": 32,
   "id": "76fa33cc",
   "metadata": {},
   "outputs": [
    {
     "data": {
      "text/plain": [
       "(360, 540, 3)"
      ]
     },
     "execution_count": 32,
     "metadata": {},
     "output_type": "execute_result"
    }
   ],
   "source": [
    "img.shape"
   ]
  },
  {
   "cell_type": "code",
   "execution_count": 19,
   "id": "5f4f39a3",
   "metadata": {},
   "outputs": [
    {
     "data": {
      "text/plain": [
       "(254, 255)"
      ]
     },
     "execution_count": 19,
     "metadata": {},
     "output_type": "execute_result"
    }
   ],
   "source": [
    "np.max(imgGray), np.max(img)"
   ]
  },
  {
   "cell_type": "code",
   "execution_count": 20,
   "id": "0487315d",
   "metadata": {},
   "outputs": [
    {
     "data": {
      "text/plain": [
       "numpy.ndarray"
      ]
     },
     "execution_count": 20,
     "metadata": {},
     "output_type": "execute_result"
    }
   ],
   "source": [
    "type(imgGray)"
   ]
  },
  {
   "cell_type": "code",
   "execution_count": 21,
   "id": "97378578",
   "metadata": {},
   "outputs": [
    {
     "data": {
      "text/plain": [
       "numpy.ndarray"
      ]
     },
     "execution_count": 21,
     "metadata": {},
     "output_type": "execute_result"
    }
   ],
   "source": [
    "type(img)"
   ]
  },
  {
   "cell_type": "code",
   "execution_count": 22,
   "id": "5df9b5e4",
   "metadata": {},
   "outputs": [
    {
     "data": {
      "text/plain": [
       "(5, 0)"
      ]
     },
     "execution_count": 22,
     "metadata": {},
     "output_type": "execute_result"
    }
   ],
   "source": [
    "np.min(imgGray), np.min(img)"
   ]
  },
  {
   "cell_type": "code",
   "execution_count": 23,
   "id": "6b6184bc",
   "metadata": {},
   "outputs": [
    {
     "data": {
      "text/plain": [
       "array([[231, 231, 231, ..., 232, 232, 232],\n",
       "       [231, 231, 231, ..., 232, 232, 232],\n",
       "       [231, 231, 231, ..., 232, 232, 232],\n",
       "       ...,\n",
       "       [234, 234, 234, ..., 232, 232, 232],\n",
       "       [234, 234, 234, ..., 232, 232, 232],\n",
       "       [234, 234, 234, ..., 232, 232, 232]], dtype=uint8)"
      ]
     },
     "execution_count": 23,
     "metadata": {},
     "output_type": "execute_result"
    }
   ],
   "source": [
    "imgGray"
   ]
  },
  {
   "cell_type": "code",
   "execution_count": 28,
   "id": "96ce77af",
   "metadata": {},
   "outputs": [],
   "source": [
    "img = cv2.imread(\"pic1.jpg\")\n",
    "imgGray = cv2.cvtColor(img, cv2.COLOR_RGB2GRAY)\n",
    "cv2.imwrite(\"bw_pic1.jpg\",imgGray)\n",
    "cv2.imshow(\"BW Image\", imgGray)\n",
    "cv2.imshow('Color Imaga',img)\n",
    "\n",
    "cv2.waitKey(10000)\n",
    "cv2.destroyAllWindows()"
   ]
  },
  {
   "cell_type": "code",
   "execution_count": 35,
   "id": "114700ea",
   "metadata": {},
   "outputs": [],
   "source": [
    "img = np.zeros((512,512,3), dtype=np.uint8)\n",
    "cv2.line(img, (0,0) , (300,300) , (0,255,255) , 10 )\n",
    "cv2.imshow(\"output\",img)\n",
    "cv2.waitKey(0)\n",
    "cv2.destroyAllWindows()"
   ]
  },
  {
   "cell_type": "code",
   "execution_count": 36,
   "id": "14ad2533",
   "metadata": {},
   "outputs": [],
   "source": [
    "cv2.rectangle(img, (0,0), (250,400) , (0,255,0), cv2.FILLED)\n",
    "cv2.imshow(\"output\",img)\n",
    "cv2.waitKey(0)\n",
    "cv2.destroyAllWindows()"
   ]
  },
  {
   "cell_type": "code",
   "execution_count": 37,
   "id": "d243543c",
   "metadata": {},
   "outputs": [],
   "source": [
    "cv2.putText(img, \"Open CV Text\", (250,100), cv2.FONT_HERSHEY_COMPLEX, 1 , (255,0,0) , 1) #Staring Pt., Font, Scale, Color, Thickness\n",
    "cv2.imshow(\"output\",img)\n",
    "cv2.waitKey(0)\n",
    "cv2.destroyAllWindows()"
   ]
  },
  {
   "cell_type": "code",
   "execution_count": null,
   "id": "b5a3f285",
   "metadata": {},
   "outputs": [],
   "source": [
    "import cv2\n",
    "cap = cv2.VideoCapture('crowd.mp4')\n",
    "\n",
    "#Videos are just a sequence of Images\n",
    "#So, we will add a while loop to capture the frame continuously\n",
    "\n",
    "faceCascade = cv2.CascadeClassifier(\"haarcascade_frontalface_default.xml\")\n",
    "\n",
    "\n",
    "while True:\n",
    "    success, frame = cap.read() #frame variable will capture the Video & success variable will tell us whether it was captured successfully or not\n",
    "            \n",
    "        \n",
    "    imgGray = cv2.cvtColor(frame, cv2.COLOR_BGR2GRAY)\n",
    "\n",
    "    faces = faceCascade.detectMultiScale(imgGray, 1.1, 4)\n",
    "\n",
    "    for (x, y, w, h) in faces:\n",
    "        cv2.rectangle(frame, (x,y),(x+w,y+h),(0,255,0),2)\n",
    "    \n",
    "    cv2.imshow(\"Video\", frame)\n",
    "    \n",
    "    if cv2.waitKey(1) == ord('q'): #This adds a Delay and looks for the key press inorder to break the loop\n",
    "        break\n",
    "            \n",
    "        \n",
    "cap.release() #Release the resources after recording\n",
    "cv2.destroyAllWindows()"
   ]
  }
 ],
 "metadata": {
  "kernelspec": {
   "display_name": "Python 3 (ipykernel)",
   "language": "python",
   "name": "python3"
  },
  "language_info": {
   "codemirror_mode": {
    "name": "ipython",
    "version": 3
   },
   "file_extension": ".py",
   "mimetype": "text/x-python",
   "name": "python",
   "nbconvert_exporter": "python",
   "pygments_lexer": "ipython3",
   "version": "3.9.7"
  }
 },
 "nbformat": 4,
 "nbformat_minor": 5
}
