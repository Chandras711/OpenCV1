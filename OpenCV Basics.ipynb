{
 "cells": [
  {
   "cell_type": "code",
   "execution_count": 1,
   "id": "936bf3a0",
   "metadata": {},
   "outputs": [
    {
     "name": "stdout",
     "output_type": "stream",
     "text": [
      "Requirement already satisfied: opencv-python in c:\\users\\navan\\anaconda3\\lib\\site-packages (4.5.5.62)\n",
      "Requirement already satisfied: numpy>=1.19.3 in c:\\users\\navan\\anaconda3\\lib\\site-packages (from opencv-python) (1.20.3)\n"
     ]
    }
   ],
   "source": [
    "!pip install opencv-python"
   ]
  },
  {
   "cell_type": "code",
   "execution_count": 2,
   "id": "02f97c30",
   "metadata": {},
   "outputs": [
    {
     "data": {
      "text/plain": [
       "'4.5.5'"
      ]
     },
     "execution_count": 2,
     "metadata": {},
     "output_type": "execute_result"
    }
   ],
   "source": [
    "import cv2\n",
    "cv2.__version__"
   ]
  },
  {
   "cell_type": "code",
   "execution_count": 3,
   "id": "1a79933d",
   "metadata": {},
   "outputs": [],
   "source": [
    "import numpy as np"
   ]
  },
  {
   "cell_type": "code",
   "execution_count": 12,
   "id": "c3cf933c",
   "metadata": {},
   "outputs": [],
   "source": [
    "# Read, write and Display\n",
    "img = cv2.imread(\"pic1.jpg\")\n",
    "cv2.imshow(\"Output\",img)\n",
    "\n",
    "cv2.waitKey(0)\n",
    "cv2.destroyAllWindows()"
   ]
  },
  {
   "cell_type": "code",
   "execution_count": 13,
   "id": "80c9004b",
   "metadata": {},
   "outputs": [
    {
     "data": {
      "text/plain": [
       "(360, 540, 3)"
      ]
     },
     "execution_count": 13,
     "metadata": {},
     "output_type": "execute_result"
    }
   ],
   "source": [
    "img.shape"
   ]
  },
  {
   "cell_type": "code",
   "execution_count": 30,
   "id": "0f18bf87",
   "metadata": {},
   "outputs": [],
   "source": [
    "img = cv2.imread(\"pic1.jpg\")\n",
    "imgGray = cv2.cvtColor(img, cv2.COLOR_RGB2GRAY)\n",
    "cv2.imwrite(\"bw_pic1.jpg\",imgGray)\n",
    "cv2.imshow(\"BW Image\", imgGray)\n",
    "cv2.imshow('Color Imaga',img)\n",
    "\n",
    "cv2.waitKey(0)\n",
    "cv2.destroyAllWindows()"
   ]
  },
  {
   "cell_type": "code",
   "execution_count": 31,
   "id": "a83ac897",
   "metadata": {},
   "outputs": [
    {
     "data": {
      "text/plain": [
       "(360, 540)"
      ]
     },
     "execution_count": 31,
     "metadata": {},
     "output_type": "execute_result"
    }
   ],
   "source": [
    "imgGray.shape"
   ]
  },
  {
   "cell_type": "code",
   "execution_count": 32,
   "id": "70663aca",
   "metadata": {},
   "outputs": [
    {
     "data": {
      "text/plain": [
       "(360, 540, 3)"
      ]
     },
     "execution_count": 32,
     "metadata": {},
     "output_type": "execute_result"
    }
   ],
   "source": [
    "img.shape"
   ]
  },
  {
   "cell_type": "code",
   "execution_count": 19,
   "id": "12421958",
   "metadata": {},
   "outputs": [
    {
     "data": {
      "text/plain": [
       "(254, 255)"
      ]
     },
     "execution_count": 19,
     "metadata": {},
     "output_type": "execute_result"
    }
   ],
   "source": [
    "np.max(imgGray), np.max(img)"
   ]
  },
  {
   "cell_type": "code",
   "execution_count": 20,
   "id": "b23943a3",
   "metadata": {},
   "outputs": [
    {
     "data": {
      "text/plain": [
       "numpy.ndarray"
      ]
     },
     "execution_count": 20,
     "metadata": {},
     "output_type": "execute_result"
    }
   ],
   "source": [
    "type(imgGray)"
   ]
  },
  {
   "cell_type": "code",
   "execution_count": 21,
   "id": "8a5e6e77",
   "metadata": {},
   "outputs": [
    {
     "data": {
      "text/plain": [
       "numpy.ndarray"
      ]
     },
     "execution_count": 21,
     "metadata": {},
     "output_type": "execute_result"
    }
   ],
   "source": [
    "type(img)"
   ]
  },
  {
   "cell_type": "code",
   "execution_count": 22,
   "id": "2260b098",
   "metadata": {},
   "outputs": [
    {
     "data": {
      "text/plain": [
       "(5, 0)"
      ]
     },
     "execution_count": 22,
     "metadata": {},
     "output_type": "execute_result"
    }
   ],
   "source": [
    "np.min(imgGray), np.min(img)"
   ]
  },
  {
   "cell_type": "code",
   "execution_count": 23,
   "id": "a600cd93",
   "metadata": {},
   "outputs": [
    {
     "data": {
      "text/plain": [
       "array([[231, 231, 231, ..., 232, 232, 232],\n",
       "       [231, 231, 231, ..., 232, 232, 232],\n",
       "       [231, 231, 231, ..., 232, 232, 232],\n",
       "       ...,\n",
       "       [234, 234, 234, ..., 232, 232, 232],\n",
       "       [234, 234, 234, ..., 232, 232, 232],\n",
       "       [234, 234, 234, ..., 232, 232, 232]], dtype=uint8)"
      ]
     },
     "execution_count": 23,
     "metadata": {},
     "output_type": "execute_result"
    }
   ],
   "source": [
    "imgGray"
   ]
  },
  {
   "cell_type": "code",
   "execution_count": 28,
   "id": "d225d1fc",
   "metadata": {},
   "outputs": [],
   "source": [
    "img = cv2.imread(\"pic1.jpg\")\n",
    "imgGray = cv2.cvtColor(img, cv2.COLOR_RGB2GRAY)\n",
    "cv2.imwrite(\"bw_pic1.jpg\",imgGray)\n",
    "cv2.imshow(\"BW Image\", imgGray)\n",
    "cv2.imshow('Color Imaga',img)\n",
    "\n",
    "cv2.waitKey(10000)\n",
    "cv2.destroyAllWindows()"
   ]
  },
  {
   "cell_type": "code",
   "execution_count": 35,
   "id": "52221486",
   "metadata": {},
   "outputs": [],
   "source": [
    "img = np.zeros((512,512,3), dtype=np.uint8)\n",
    "cv2.line(img, (0,0) , (300,300) , (0,255,255) , 10 )\n",
    "cv2.imshow(\"output\",img)\n",
    "cv2.waitKey(0)\n",
    "cv2.destroyAllWindows()"
   ]
  },
  {
   "cell_type": "code",
   "execution_count": 36,
   "id": "d6244fee",
   "metadata": {},
   "outputs": [],
   "source": [
    "cv2.rectangle(img, (0,0), (250,400) , (0,255,0), cv2.FILLED)\n",
    "cv2.imshow(\"output\",img)\n",
    "cv2.waitKey(0)\n",
    "cv2.destroyAllWindows()"
   ]
  },
  {
   "cell_type": "code",
   "execution_count": 37,
   "id": "77f32059",
   "metadata": {},
   "outputs": [],
   "source": [
    "cv2.putText(img, \"Open CV Text\", (250,100), cv2.FONT_HERSHEY_COMPLEX, 1 , (255,0,0) , 1) #Staring Pt., Font, Scale, Color, Thickness\n",
    "cv2.imshow(\"output\",img)\n",
    "cv2.waitKey(0)\n",
    "cv2.destroyAllWindows()"
   ]
  },
  {
   "cell_type": "code",
   "execution_count": null,
   "id": "f86e5611",
   "metadata": {},
   "outputs": [],
   "source": []
  }
 ],
 "metadata": {
  "kernelspec": {
   "display_name": "Python 3 (ipykernel)",
   "language": "python",
   "name": "python3"
  },
  "language_info": {
   "codemirror_mode": {
    "name": "ipython",
    "version": 3
   },
   "file_extension": ".py",
   "mimetype": "text/x-python",
   "name": "python",
   "nbconvert_exporter": "python",
   "pygments_lexer": "ipython3",
   "version": "3.9.7"
  }
 },
 "nbformat": 4,
 "nbformat_minor": 5
}
